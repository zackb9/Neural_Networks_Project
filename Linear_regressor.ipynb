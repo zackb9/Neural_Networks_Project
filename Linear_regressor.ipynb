{
 "cells": [
  {
   "cell_type": "code",
   "execution_count": 391,
   "id": "025540d4-bfbb-45ac-8f4e-d6b5547b3002",
   "metadata": {},
   "outputs": [],
   "source": [
    "import numpy as np\n",
    "import matplotlib.pyplot as plt\n",
    "from matplotlib.pylab import rcParams\n",
    "import h5py\n",
    "import scipy\n",
    "%matplotlib inline\n",
    "import pandas as pd\n",
    "import csv\n",
    "import sklearn\n",
    "from sklearn.model_selection import train_test_split\n",
    "from sklearn.datasets import make_regression"
   ]
  },
  {
   "cell_type": "code",
   "execution_count": 392,
   "id": "ea291056-9ce7-4cd8-af2e-502ccba3e116",
   "metadata": {},
   "outputs": [],
   "source": [
    "def initialise():\n",
    "    w = np.random.randn()*0.1\n",
    "    b = np.random.randn()*0.1\n",
    "    return w,b"
   ]
  },
  {
   "cell_type": "code",
   "execution_count": 393,
   "id": "9f1490fb-2a8f-4b17-95cf-6d62af3af7b1",
   "metadata": {},
   "outputs": [],
   "source": [
    "def forward_propagate(w,b,X,Y):\n",
    "    y_pred = w*X+b  # predict using our initial params\n",
    "    m=X.shape[0]\n",
    "    cost = (1/2)*np.mean((y_pred-Y)**2)  # compute cost\n",
    "    \n",
    "    dw = (1 / m) * np.sum((y_pred - Y)*X)   # compute gradients\n",
    "    db = (1 / m) * np.sum(y_pred - Y)\n",
    "\n",
    "    return dw, db, cost, y_pred"
   ]
  },
  {
   "cell_type": "code",
   "execution_count": 438,
   "id": "c5eba483-f704-4e93-a6f7-a83411c7b977",
   "metadata": {},
   "outputs": [],
   "source": [
    "def grad_descent(w, b, X, Y, num_iterations, learning_rate, print_cost = False):\n",
    "    #update parameters, propagate, update again num_iterations times.\n",
    "    inbetween_w = []\n",
    "    inbetween_b = []\n",
    "    for i in range(num_iterations):\n",
    "        dw, db, cost, y_pred = forward_propagate(w, b, X, Y)\n",
    "        w = w - learning_rate * dw\n",
    "        b = b - learning_rate * db\n",
    "        if i%50 == 0:\n",
    "            inbetween_w.append(w)\n",
    "            inbetween_b.append(b)\n",
    "    params = {\"w\": w,\n",
    "              \"b\": b}\n",
    "    \n",
    "    grads = {\"dw\": dw,\n",
    "             \"db\": db}\n",
    "    \n",
    "    return params, grads, cost, inbetween_w, inbetween_b"
   ]
  },
  {
   "cell_type": "code",
   "execution_count": 395,
   "id": "d577ccd0-ebba-4ee9-9da6-243f65088ed1",
   "metadata": {},
   "outputs": [],
   "source": [
    "def predict(w,b,X,Y):\n",
    "    dw, db, cost, y_pred = forward_propagate(w,b,X,Y)  #predict\n",
    "\n",
    "    return y_pred"
   ]
  },
  {
   "cell_type": "code",
   "execution_count": 439,
   "id": "6e7bdb56-e283-4245-95de-e10d72ead8da",
   "metadata": {},
   "outputs": [],
   "source": [
    "def model(X_train, y_train, X_test, y_test, num_iterations, learning_rate):\n",
    "    \n",
    "    w, b = initialise()    #start with random w,b\n",
    "    initialial_params =[w,b]\n",
    "    # Gradient descent\n",
    "    parameters, grads, costs, inbetween_w, inbetween_b = grad_descent(w, b, X_train, y_train, num_iterations, learning_rate)\n",
    "    \n",
    "    # Retrieve parameters w and b from dictionary \"parameters\"\n",
    "    w = parameters[\"w\"]\n",
    "    b = parameters[\"b\"]\n",
    "    \n",
    "    # Predict test/train set examples\n",
    "    Y_prediction_test = predict(w, b, X_test, y_test)\n",
    "    Y_prediction_train = predict(w, b, X_train, y_train)\n",
    "    \n",
    "    print(\"train accuracy: {} %\".format(100-np.mean(np.fabs(Y_prediction_train - y_train)/y_train) * 100))\n",
    "    print(\"test accuracy: {} %\".format(100-np.mean(np.fabs(Y_prediction_test - y_test)/y_test) * 100))\n",
    "    \n",
    "    print(\"w = {} \".format(w))\n",
    "    print(\"b = {}\".format(b))\n",
    "    \n",
    "    return w,b, inbetween_w, inbetween_b"
   ]
  },
  {
   "cell_type": "code",
   "execution_count": 443,
   "id": "2c69f4ec-f7d8-4410-aefc-ce26116f2617",
   "metadata": {},
   "outputs": [
    {
     "name": "stdout",
     "output_type": "stream",
     "text": [
      "train accuracy: 93.0016956286051 %\n",
      "test accuracy: 93.90848904005432 %\n",
      "w = 1.7916550826084696 \n",
      "b = 1.537338288850299\n"
     ]
    }
   ],
   "source": [
    "#reading in data, preprocessing and fitting model\n",
    "dft = pd.read_csv(\"datasets/placement.csv\")\n",
    "x = dft['package']\n",
    "y = dft['cgpa']\n",
    "y = y.values.reshape([200,1])\n",
    "x = x.values.reshape([200,1])\n",
    "X_train, X_test, y_train, y_test = train_test_split(x, y, test_size=0.2, random_state=109)\n",
    "d = model(X_train, y_train, X_test, y_test, num_iterations = 200, learning_rate = 0.05)"
   ]
  },
  {
   "cell_type": "code",
   "execution_count": 444,
   "id": "47fd4f95-95d7-4b89-a24f-d90be243baed",
   "metadata": {},
   "outputs": [
    {
     "data": {
      "text/plain": [
       "Text(0, 0.5, 'package')"
      ]
     },
     "execution_count": 444,
     "metadata": {},
     "output_type": "execute_result"
    },
    {
     "data": {
      "image/png": "[encoded data removed]",
      "text/plain": [
       "<Figure size 432x288 with 1 Axes>"
      ]
     },
     "metadata": {
      "needs_background": "light"
     },
     "output_type": "display_data"
    }
   ],
   "source": [
    "#plotting data, adding the final line and some intermediary lines to show improvement of model with iterations\n",
    "plt.scatter(x,y, c='grey')\n",
    "inbetween_w = d[2]\n",
    "inbetween_b = d[3]\n",
    "for i in range(len(inbetween_w)):\n",
    "    abline_values = [inbetween_w[i] * j + inbetween_b[i] for j in x]\n",
    "    if i == 0:\n",
    "        plt.plot(x, abline_values, '-r', label = \"initial line\")\n",
    "    else:\n",
    "        plt.plot(x, abline_values, 'gold', label = \"intermediate lines\")\n",
    "w = d[0]\n",
    "b = d[1]\n",
    "y_hat = w*x+b\n",
    "plt.plot(x,y_hat, '-g', label = \"final line\")\n",
    "plt.legend()\n",
    "plt.xlabel(\"cgpa\")\n",
    "plt.ylabel(\"package\")"
   ]
  },
  {
   "cell_type": "code",
   "execution_count": null,
   "id": "668702b1-924c-4496-8b7d-70de9185c25f",
   "metadata": {},
   "outputs": [],
   "source": []
  }
 ],
 "metadata": {
  "kernelspec": {
   "display_name": "Python 3 (ipykernel)",
   "language": "python",
   "name": "python3"
  },
  "language_info": {
   "codemirror_mode": {
    "name": "ipython",
    "version": 3
   },
   "file_extension": ".py",
   "mimetype": "text/x-python",
   "name": "python",
   "nbconvert_exporter": "python",
   "pygments_lexer": "ipython3",
   "version": "3.9.7"
  }
 },
 "nbformat": 4,
 "nbformat_minor": 5
}
